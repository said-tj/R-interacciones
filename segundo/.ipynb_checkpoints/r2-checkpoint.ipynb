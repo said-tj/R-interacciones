{
 "cells": [
  {
   "cell_type": "markdown",
   "id": "e74cbdaf",
   "metadata": {},
   "source": [
    "# Código."
   ]
  },
  {
   "cell_type": "code",
   "execution_count": 32,
   "id": "da5ef076",
   "metadata": {},
   "outputs": [],
   "source": [
    "# Importamos las librerias y dependencias necesarias.\n",
    "import pandas as pd\n",
    "import numpy as np\n",
    "import spacy\n",
    "from spacy import displacy\n",
    "import networkx as nx\n",
    "import matplotlib.pyplot as plt"
   ]
  },
  {
   "cell_type": "markdown",
   "id": "a5dd9c65",
   "metadata": {},
   "source": [
    "#### Los datos están almacenados en un archivo .csv, en donde se especifica cada relación que existe en el grupo que se esta analizando."
   ]
  },
  {
   "cell_type": "code",
   "execution_count": 33,
   "id": "5a425b09",
   "metadata": {},
   "outputs": [],
   "source": [
    "datos = pd.read_csv('segundo.csv', index_col=None)"
   ]
  },
  {
   "cell_type": "code",
   "execution_count": 34,
   "id": "bd838345",
   "metadata": {},
   "outputs": [
    {
     "data": {
      "text/html": [
       "<div>\n",
       "<style scoped>\n",
       "    .dataframe tbody tr th:only-of-type {\n",
       "        vertical-align: middle;\n",
       "    }\n",
       "\n",
       "    .dataframe tbody tr th {\n",
       "        vertical-align: top;\n",
       "    }\n",
       "\n",
       "    .dataframe thead th {\n",
       "        text-align: right;\n",
       "    }\n",
       "</style>\n",
       "<table border=\"1\" class=\"dataframe\">\n",
       "  <thead>\n",
       "    <tr style=\"text-align: right;\">\n",
       "      <th></th>\n",
       "      <th>source</th>\n",
       "      <th>target</th>\n",
       "    </tr>\n",
       "  </thead>\n",
       "  <tbody>\n",
       "    <tr>\n",
       "      <th>0</th>\n",
       "      <td>Brian</td>\n",
       "      <td>Fernando</td>\n",
       "    </tr>\n",
       "    <tr>\n",
       "      <th>1</th>\n",
       "      <td>Brian</td>\n",
       "      <td>Dzain</td>\n",
       "    </tr>\n",
       "    <tr>\n",
       "      <th>2</th>\n",
       "      <td>Brian</td>\n",
       "      <td>Misael</td>\n",
       "    </tr>\n",
       "    <tr>\n",
       "      <th>3</th>\n",
       "      <td>Fernando</td>\n",
       "      <td>Brian</td>\n",
       "    </tr>\n",
       "    <tr>\n",
       "      <th>4</th>\n",
       "      <td>Fernando</td>\n",
       "      <td>Dzain</td>\n",
       "    </tr>\n",
       "    <tr>\n",
       "      <th>5</th>\n",
       "      <td>Fernando</td>\n",
       "      <td>Misael</td>\n",
       "    </tr>\n",
       "    <tr>\n",
       "      <th>6</th>\n",
       "      <td>Dzain</td>\n",
       "      <td>Brian</td>\n",
       "    </tr>\n",
       "    <tr>\n",
       "      <th>7</th>\n",
       "      <td>Dzain</td>\n",
       "      <td>Fernando</td>\n",
       "    </tr>\n",
       "    <tr>\n",
       "      <th>8</th>\n",
       "      <td>Dzain</td>\n",
       "      <td>Misael</td>\n",
       "    </tr>\n",
       "    <tr>\n",
       "      <th>9</th>\n",
       "      <td>Misael</td>\n",
       "      <td>Brian</td>\n",
       "    </tr>\n",
       "  </tbody>\n",
       "</table>\n",
       "</div>"
      ],
      "text/plain": [
       "     source    target\n",
       "0     Brian  Fernando\n",
       "1     Brian     Dzain\n",
       "2     Brian    Misael\n",
       "3  Fernando     Brian\n",
       "4  Fernando     Dzain\n",
       "5  Fernando    Misael\n",
       "6     Dzain     Brian\n",
       "7     Dzain  Fernando\n",
       "8     Dzain    Misael\n",
       "9    Misael     Brian"
      ]
     },
     "execution_count": 34,
     "metadata": {},
     "output_type": "execute_result"
    }
   ],
   "source": [
    "datos.head(10)"
   ]
  },
  {
   "cell_type": "code",
   "execution_count": 35,
   "id": "48190ee0",
   "metadata": {},
   "outputs": [],
   "source": [
    "relationship_df = pd.DataFrame(datos)"
   ]
  },
  {
   "cell_type": "code",
   "execution_count": 36,
   "id": "9e52ab38",
   "metadata": {},
   "outputs": [
    {
     "data": {
      "text/html": [
       "<div>\n",
       "<style scoped>\n",
       "    .dataframe tbody tr th:only-of-type {\n",
       "        vertical-align: middle;\n",
       "    }\n",
       "\n",
       "    .dataframe tbody tr th {\n",
       "        vertical-align: top;\n",
       "    }\n",
       "\n",
       "    .dataframe thead th {\n",
       "        text-align: right;\n",
       "    }\n",
       "</style>\n",
       "<table border=\"1\" class=\"dataframe\">\n",
       "  <thead>\n",
       "    <tr style=\"text-align: right;\">\n",
       "      <th></th>\n",
       "      <th>source</th>\n",
       "      <th>target</th>\n",
       "    </tr>\n",
       "  </thead>\n",
       "  <tbody>\n",
       "    <tr>\n",
       "      <th>0</th>\n",
       "      <td>Brian</td>\n",
       "      <td>Fernando</td>\n",
       "    </tr>\n",
       "    <tr>\n",
       "      <th>1</th>\n",
       "      <td>Brian</td>\n",
       "      <td>Dzain</td>\n",
       "    </tr>\n",
       "    <tr>\n",
       "      <th>2</th>\n",
       "      <td>Brian</td>\n",
       "      <td>Misael</td>\n",
       "    </tr>\n",
       "    <tr>\n",
       "      <th>3</th>\n",
       "      <td>Fernando</td>\n",
       "      <td>Brian</td>\n",
       "    </tr>\n",
       "    <tr>\n",
       "      <th>4</th>\n",
       "      <td>Fernando</td>\n",
       "      <td>Dzain</td>\n",
       "    </tr>\n",
       "    <tr>\n",
       "      <th>5</th>\n",
       "      <td>Fernando</td>\n",
       "      <td>Misael</td>\n",
       "    </tr>\n",
       "    <tr>\n",
       "      <th>6</th>\n",
       "      <td>Dzain</td>\n",
       "      <td>Brian</td>\n",
       "    </tr>\n",
       "    <tr>\n",
       "      <th>7</th>\n",
       "      <td>Dzain</td>\n",
       "      <td>Fernando</td>\n",
       "    </tr>\n",
       "    <tr>\n",
       "      <th>8</th>\n",
       "      <td>Dzain</td>\n",
       "      <td>Misael</td>\n",
       "    </tr>\n",
       "    <tr>\n",
       "      <th>9</th>\n",
       "      <td>Misael</td>\n",
       "      <td>Brian</td>\n",
       "    </tr>\n",
       "    <tr>\n",
       "      <th>10</th>\n",
       "      <td>Misael</td>\n",
       "      <td>Fernando</td>\n",
       "    </tr>\n",
       "    <tr>\n",
       "      <th>11</th>\n",
       "      <td>Misael</td>\n",
       "      <td>Dzain</td>\n",
       "    </tr>\n",
       "    <tr>\n",
       "      <th>12</th>\n",
       "      <td>Karen</td>\n",
       "      <td>Estefania</td>\n",
       "    </tr>\n",
       "    <tr>\n",
       "      <th>13</th>\n",
       "      <td>Karen</td>\n",
       "      <td>Marisol</td>\n",
       "    </tr>\n",
       "    <tr>\n",
       "      <th>14</th>\n",
       "      <td>Estefania</td>\n",
       "      <td>Karen</td>\n",
       "    </tr>\n",
       "    <tr>\n",
       "      <th>15</th>\n",
       "      <td>Estefania</td>\n",
       "      <td>Marisol</td>\n",
       "    </tr>\n",
       "    <tr>\n",
       "      <th>16</th>\n",
       "      <td>Marisol</td>\n",
       "      <td>Estefania</td>\n",
       "    </tr>\n",
       "    <tr>\n",
       "      <th>17</th>\n",
       "      <td>Marisol</td>\n",
       "      <td>Karen</td>\n",
       "    </tr>\n",
       "  </tbody>\n",
       "</table>\n",
       "</div>"
      ],
      "text/plain": [
       "       source     target\n",
       "0       Brian   Fernando\n",
       "1       Brian      Dzain\n",
       "2       Brian     Misael\n",
       "3    Fernando      Brian\n",
       "4    Fernando      Dzain\n",
       "5    Fernando     Misael\n",
       "6       Dzain      Brian\n",
       "7       Dzain   Fernando\n",
       "8       Dzain     Misael\n",
       "9      Misael      Brian\n",
       "10     Misael   Fernando\n",
       "11     Misael      Dzain\n",
       "12      Karen  Estefania\n",
       "13      Karen    Marisol\n",
       "14  Estefania      Karen\n",
       "15  Estefania    Marisol\n",
       "16    Marisol  Estefania\n",
       "17    Marisol      Karen"
      ]
     },
     "execution_count": 36,
     "metadata": {},
     "output_type": "execute_result"
    }
   ],
   "source": [
    "pd.set_option('display.max_rows', None)\n",
    "relationship_df"
   ]
  },
  {
   "cell_type": "code",
   "execution_count": 37,
   "id": "8b1df8a4",
   "metadata": {},
   "outputs": [
    {
     "data": {
      "text/html": [
       "<div>\n",
       "<style scoped>\n",
       "    .dataframe tbody tr th:only-of-type {\n",
       "        vertical-align: middle;\n",
       "    }\n",
       "\n",
       "    .dataframe tbody tr th {\n",
       "        vertical-align: top;\n",
       "    }\n",
       "\n",
       "    .dataframe thead th {\n",
       "        text-align: right;\n",
       "    }\n",
       "</style>\n",
       "<table border=\"1\" class=\"dataframe\">\n",
       "  <thead>\n",
       "    <tr style=\"text-align: right;\">\n",
       "      <th></th>\n",
       "      <th>source</th>\n",
       "      <th>target</th>\n",
       "    </tr>\n",
       "  </thead>\n",
       "  <tbody>\n",
       "    <tr>\n",
       "      <th>0</th>\n",
       "      <td>Brian</td>\n",
       "      <td>Fernando</td>\n",
       "    </tr>\n",
       "    <tr>\n",
       "      <th>1</th>\n",
       "      <td>Brian</td>\n",
       "      <td>Dzain</td>\n",
       "    </tr>\n",
       "    <tr>\n",
       "      <th>2</th>\n",
       "      <td>Brian</td>\n",
       "      <td>Misael</td>\n",
       "    </tr>\n",
       "    <tr>\n",
       "      <th>3</th>\n",
       "      <td>Brian</td>\n",
       "      <td>Fernando</td>\n",
       "    </tr>\n",
       "    <tr>\n",
       "      <th>4</th>\n",
       "      <td>Dzain</td>\n",
       "      <td>Fernando</td>\n",
       "    </tr>\n",
       "    <tr>\n",
       "      <th>5</th>\n",
       "      <td>Fernando</td>\n",
       "      <td>Misael</td>\n",
       "    </tr>\n",
       "    <tr>\n",
       "      <th>6</th>\n",
       "      <td>Brian</td>\n",
       "      <td>Dzain</td>\n",
       "    </tr>\n",
       "    <tr>\n",
       "      <th>7</th>\n",
       "      <td>Dzain</td>\n",
       "      <td>Fernando</td>\n",
       "    </tr>\n",
       "    <tr>\n",
       "      <th>8</th>\n",
       "      <td>Dzain</td>\n",
       "      <td>Misael</td>\n",
       "    </tr>\n",
       "    <tr>\n",
       "      <th>9</th>\n",
       "      <td>Brian</td>\n",
       "      <td>Misael</td>\n",
       "    </tr>\n",
       "    <tr>\n",
       "      <th>10</th>\n",
       "      <td>Fernando</td>\n",
       "      <td>Misael</td>\n",
       "    </tr>\n",
       "    <tr>\n",
       "      <th>11</th>\n",
       "      <td>Dzain</td>\n",
       "      <td>Misael</td>\n",
       "    </tr>\n",
       "    <tr>\n",
       "      <th>12</th>\n",
       "      <td>Estefania</td>\n",
       "      <td>Karen</td>\n",
       "    </tr>\n",
       "    <tr>\n",
       "      <th>13</th>\n",
       "      <td>Karen</td>\n",
       "      <td>Marisol</td>\n",
       "    </tr>\n",
       "    <tr>\n",
       "      <th>14</th>\n",
       "      <td>Estefania</td>\n",
       "      <td>Karen</td>\n",
       "    </tr>\n",
       "    <tr>\n",
       "      <th>15</th>\n",
       "      <td>Estefania</td>\n",
       "      <td>Marisol</td>\n",
       "    </tr>\n",
       "    <tr>\n",
       "      <th>16</th>\n",
       "      <td>Estefania</td>\n",
       "      <td>Marisol</td>\n",
       "    </tr>\n",
       "    <tr>\n",
       "      <th>17</th>\n",
       "      <td>Karen</td>\n",
       "      <td>Marisol</td>\n",
       "    </tr>\n",
       "  </tbody>\n",
       "</table>\n",
       "</div>"
      ],
      "text/plain": [
       "       source    target\n",
       "0       Brian  Fernando\n",
       "1       Brian     Dzain\n",
       "2       Brian    Misael\n",
       "3       Brian  Fernando\n",
       "4       Dzain  Fernando\n",
       "5    Fernando    Misael\n",
       "6       Brian     Dzain\n",
       "7       Dzain  Fernando\n",
       "8       Dzain    Misael\n",
       "9       Brian    Misael\n",
       "10   Fernando    Misael\n",
       "11      Dzain    Misael\n",
       "12  Estefania     Karen\n",
       "13      Karen   Marisol\n",
       "14  Estefania     Karen\n",
       "15  Estefania   Marisol\n",
       "16  Estefania   Marisol\n",
       "17      Karen   Marisol"
      ]
     },
     "execution_count": 37,
     "metadata": {},
     "output_type": "execute_result"
    }
   ],
   "source": [
    "relationship_df = pd.DataFrame(np.sort(relationship_df.values, axis = 1), columns = relationship_df.columns)\n",
    "relationship_df"
   ]
  },
  {
   "cell_type": "code",
   "execution_count": 38,
   "id": "9bcdbbf7",
   "metadata": {},
   "outputs": [],
   "source": [
    "relationship_df[\"value\"] = 1\n",
    "relationship_df = relationship_df.groupby([\"source\",\"target\"], sort=False, as_index=False).sum()"
   ]
  },
  {
   "cell_type": "code",
   "execution_count": 39,
   "id": "6c1523fd",
   "metadata": {},
   "outputs": [
    {
     "data": {
      "text/html": [
       "<div>\n",
       "<style scoped>\n",
       "    .dataframe tbody tr th:only-of-type {\n",
       "        vertical-align: middle;\n",
       "    }\n",
       "\n",
       "    .dataframe tbody tr th {\n",
       "        vertical-align: top;\n",
       "    }\n",
       "\n",
       "    .dataframe thead th {\n",
       "        text-align: right;\n",
       "    }\n",
       "</style>\n",
       "<table border=\"1\" class=\"dataframe\">\n",
       "  <thead>\n",
       "    <tr style=\"text-align: right;\">\n",
       "      <th></th>\n",
       "      <th>source</th>\n",
       "      <th>target</th>\n",
       "      <th>value</th>\n",
       "    </tr>\n",
       "  </thead>\n",
       "  <tbody>\n",
       "    <tr>\n",
       "      <th>0</th>\n",
       "      <td>Brian</td>\n",
       "      <td>Fernando</td>\n",
       "      <td>2</td>\n",
       "    </tr>\n",
       "    <tr>\n",
       "      <th>1</th>\n",
       "      <td>Brian</td>\n",
       "      <td>Dzain</td>\n",
       "      <td>2</td>\n",
       "    </tr>\n",
       "    <tr>\n",
       "      <th>2</th>\n",
       "      <td>Brian</td>\n",
       "      <td>Misael</td>\n",
       "      <td>2</td>\n",
       "    </tr>\n",
       "    <tr>\n",
       "      <th>3</th>\n",
       "      <td>Dzain</td>\n",
       "      <td>Fernando</td>\n",
       "      <td>2</td>\n",
       "    </tr>\n",
       "    <tr>\n",
       "      <th>4</th>\n",
       "      <td>Fernando</td>\n",
       "      <td>Misael</td>\n",
       "      <td>2</td>\n",
       "    </tr>\n",
       "    <tr>\n",
       "      <th>5</th>\n",
       "      <td>Dzain</td>\n",
       "      <td>Misael</td>\n",
       "      <td>2</td>\n",
       "    </tr>\n",
       "    <tr>\n",
       "      <th>6</th>\n",
       "      <td>Estefania</td>\n",
       "      <td>Karen</td>\n",
       "      <td>2</td>\n",
       "    </tr>\n",
       "    <tr>\n",
       "      <th>7</th>\n",
       "      <td>Karen</td>\n",
       "      <td>Marisol</td>\n",
       "      <td>2</td>\n",
       "    </tr>\n",
       "    <tr>\n",
       "      <th>8</th>\n",
       "      <td>Estefania</td>\n",
       "      <td>Marisol</td>\n",
       "      <td>2</td>\n",
       "    </tr>\n",
       "  </tbody>\n",
       "</table>\n",
       "</div>"
      ],
      "text/plain": [
       "      source    target  value\n",
       "0      Brian  Fernando      2\n",
       "1      Brian     Dzain      2\n",
       "2      Brian    Misael      2\n",
       "3      Dzain  Fernando      2\n",
       "4   Fernando    Misael      2\n",
       "5      Dzain    Misael      2\n",
       "6  Estefania     Karen      2\n",
       "7      Karen   Marisol      2\n",
       "8  Estefania   Marisol      2"
      ]
     },
     "execution_count": 39,
     "metadata": {},
     "output_type": "execute_result"
    }
   ],
   "source": [
    "relationship_df.head(20)"
   ]
  },
  {
   "cell_type": "markdown",
   "id": "cc2a34db",
   "metadata": {},
   "source": [
    "# Red social (Grafo)"
   ]
  },
  {
   "cell_type": "code",
   "execution_count": 40,
   "id": "d84045e2",
   "metadata": {},
   "outputs": [],
   "source": [
    "# Create a graph from a pandas dataframe\n",
    "G = nx.from_pandas_edgelist(relationship_df, \n",
    "                            source = \"source\", \n",
    "                            target = \"target\", \n",
    "                            edge_attr = \"value\", \n",
    "                            create_using = nx.Graph())"
   ]
  },
  {
   "cell_type": "code",
   "execution_count": 41,
   "id": "962c0fef",
   "metadata": {},
   "outputs": [
    {
     "data": {
      "image/png": "[encoded data removed]",
      "text/plain": [
       "<Figure size 1000x1000 with 1 Axes>"
      ]
     },
     "metadata": {},
     "output_type": "display_data"
    }
   ],
   "source": [
    "plt.figure(figsize=(10,10))\n",
    "pos = nx.kamada_kawai_layout(G)\n",
    "nx.draw(G, with_labels=True, node_color='skyblue', edge_cmap=plt.cm.Blues, pos = pos)\n",
    "plt.show()"
   ]
  },
  {
   "cell_type": "code",
   "execution_count": 42,
   "id": "34e37577",
   "metadata": {},
   "outputs": [
    {
     "name": "stdout",
     "output_type": "stream",
     "text": [
      "Warning: When  cdn_resources is 'local' jupyter notebook has issues displaying graphics on chrome/safari. Use cdn_resources='in_line' or cdn_resources='remote' if you have issues viewing graphics in a notebook.\n",
      "r2.html\n"
     ]
    },
    {
     "data": {
      "text/html": [
       "\n",
       "        <iframe\n",
       "            width=\"1366px\"\n",
       "            height=\"768px\"\n",
       "            src=\"r2.html\"\n",
       "            frameborder=\"0\"\n",
       "            allowfullscreen\n",
       "            \n",
       "        ></iframe>\n",
       "        "
      ],
      "text/plain": [
       "<IPython.lib.display.IFrame at 0x7fdb78079eb0>"
      ]
     },
     "execution_count": 42,
     "metadata": {},
     "output_type": "execute_result"
    }
   ],
   "source": [
    "from pyvis.network import Network\n",
    "net = Network(notebook = True, width=\"1366px\", height=\"768px\", bgcolor='#222222', font_color='white')\n",
    "\n",
    "node_degree = dict(G.degree)\n",
    "\n",
    "#Setting up node size attribute\n",
    "nx.set_node_attributes(G, node_degree, 'size')\n",
    "\n",
    "net.from_nx(G)\n",
    "net.show(\"r2.html\")\n"
   ]
  },
  {
   "cell_type": "markdown",
   "id": "01587a35",
   "metadata": {},
   "source": [
    "# Visualizar comunidades dentro de la red"
   ]
  },
  {
   "cell_type": "code",
   "execution_count": 43,
   "id": "6e1aea25",
   "metadata": {},
   "outputs": [],
   "source": [
    "# Importamos librerias necesarias para mostrar la comunidades en una red\n",
    "import community as community_louvain\n",
    "import community.community_louvain as community_louvain"
   ]
  },
  {
   "cell_type": "code",
   "execution_count": 44,
   "id": "6c5079fe",
   "metadata": {},
   "outputs": [],
   "source": [
    "communities = community_louvain.best_partition(G)"
   ]
  },
  {
   "cell_type": "code",
   "execution_count": 45,
   "id": "634edcbc",
   "metadata": {},
   "outputs": [
    {
     "data": {
      "text/plain": [
       "{'Brian': 0,\n",
       " 'Fernando': 0,\n",
       " 'Dzain': 0,\n",
       " 'Misael': 0,\n",
       " 'Estefania': 1,\n",
       " 'Karen': 1,\n",
       " 'Marisol': 1}"
      ]
     },
     "execution_count": 45,
     "metadata": {},
     "output_type": "execute_result"
    }
   ],
   "source": [
    "communities"
   ]
  },
  {
   "cell_type": "code",
   "execution_count": 46,
   "id": "901595c0",
   "metadata": {},
   "outputs": [],
   "source": [
    "nx.set_node_attributes(G, communities, 'group')"
   ]
  },
  {
   "cell_type": "code",
   "execution_count": 47,
   "id": "45ed8028",
   "metadata": {},
   "outputs": [
    {
     "name": "stdout",
     "output_type": "stream",
     "text": [
      "Warning: When  cdn_resources is 'local' jupyter notebook has issues displaying graphics on chrome/safari. Use cdn_resources='in_line' or cdn_resources='remote' if you have issues viewing graphics in a notebook.\n",
      "r2_communities.html\n"
     ]
    },
    {
     "data": {
      "text/html": [
       "\n",
       "        <iframe\n",
       "            width=\"1366px\"\n",
       "            height=\"768px\"\n",
       "            src=\"r2_communities.html\"\n",
       "            frameborder=\"0\"\n",
       "            allowfullscreen\n",
       "            \n",
       "        ></iframe>\n",
       "        "
      ],
      "text/plain": [
       "<IPython.lib.display.IFrame at 0x7fdb77f76c40>"
      ]
     },
     "execution_count": 47,
     "metadata": {},
     "output_type": "execute_result"
    }
   ],
   "source": [
    "com_net = Network(notebook = True, width=\"1366px\", height=\"768px\", bgcolor='#222222', font_color='white')\n",
    "com_net.from_nx(G)\n",
    "com_net.show(\"r2_communities.html\")"
   ]
  },
  {
   "cell_type": "code",
   "execution_count": null,
   "id": "dbf130ac",
   "metadata": {},
   "outputs": [],
   "source": []
  },
  {
   "cell_type": "code",
   "execution_count": null,
   "id": "b65c26fb",
   "metadata": {},
   "outputs": [],
   "source": []
  },
  {
   "cell_type": "code",
   "execution_count": null,
   "id": "93de3591",
   "metadata": {},
   "outputs": [],
   "source": []
  }
 ],
 "metadata": {
  "kernelspec": {
   "display_name": "Python 3 (ipykernel)",
   "language": "python",
   "name": "python3"
  },
  "language_info": {
   "codemirror_mode": {
    "name": "ipython",
    "version": 3
   },
   "file_extension": ".py",
   "mimetype": "text/x-python",
   "name": "python",
   "nbconvert_exporter": "python",
   "pygments_lexer": "ipython3",
   "version": "3.9.13"
  }
 },
 "nbformat": 4,
 "nbformat_minor": 5
}
